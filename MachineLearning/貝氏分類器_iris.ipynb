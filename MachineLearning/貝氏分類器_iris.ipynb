{
  "nbformat": 4,
  "nbformat_minor": 0,
  "metadata": {
    "colab": {
      "provenance": []
    },
    "kernelspec": {
      "name": "python3",
      "display_name": "Python 3"
    },
    "language_info": {
      "name": "python"
    }
  },
  "cells": [
    {
      "cell_type": "code",
      "execution_count": 3,
      "metadata": {
        "colab": {
          "base_uri": "https://localhost:8080/"
        },
        "id": "Rg_ffWazeUOp",
        "outputId": "b3da16df-f76b-432a-8da9-e0183911667b"
      },
      "outputs": [
        {
          "output_type": "stream",
          "name": "stdout",
          "text": [
            "訓練資料正確率: 0.9428571428571428\n",
            "測試資料正確率: 1.0\n",
            "標準答案: [2 1 0 2 0 2 0 1 1 1 2 1 1 1 1 0 1 1 0 0 2 1 0 0 2 0 0 1 1 0 2 1 0 2 2 1 0\n",
            " 1 1 1 2 0 2 0 0]\n",
            "預測答案: [2 1 0 2 0 2 0 1 1 1 2 1 1 1 1 0 1 1 0 0 2 1 0 0 2 0 0 1 1 0 2 1 0 2 2 1 0\n",
            " 1 1 1 2 0 2 0 0]\n"
          ]
        }
      ],
      "source": [
        "# 匯入所需的模組\n",
        "from sklearn import datasets  # 匯入 sklearn 中的資料集模組\n",
        "from sklearn.naive_bayes import GaussianNB  # 匯入 Gaussian Naive Bayes 分類器\n",
        "from sklearn.model_selection import train_test_split  # 匯入資料切割工具\n",
        "\n",
        "# 載入 iris 鳶尾花資料集\n",
        "iris = datasets.load_iris()\n",
        "x = iris.data  # 特徵資料（花萼長度、花萼寬度、花瓣長度、花瓣寬度）\n",
        "y = iris.target  # 標籤資料（花的種類：0, 1, 2）\n",
        "\n",
        "# 將資料集切割為訓練資料與測試資料，test_size=0.3 表示測試資料佔 30%，訓練資料佔 70%\n",
        "train_data, test_data, train_label, test_label = train_test_split(x, y, test_size=0.3, random_state=0)\n",
        "\n",
        "# 建立 Gaussian Naive Bayes 分類器\n",
        "clf = GaussianNB()\n",
        "\n",
        "# 使用訓練資料來訓練模型\n",
        "clf.fit(train_data, train_label)\n",
        "\n",
        "# 輸出訓練資料的預測準確率\n",
        "print(\"訓練資料正確率:\", clf.score(train_data, train_label))  # 用訓練資料評估模型準確率\n",
        "\n",
        "# 輸出測試資料的預測準確率\n",
        "print(\"測試資料正確率:\", clf.score(test_data, test_label))  # 用測試資料評估模型準確率\n",
        "\n",
        "# 使用訓練好的模型來預測測試資料的標籤\n",
        "predict = clf.predict(test_data)\n",
        "\n",
        "# 輸出測試資料的實際標籤（標準答案）\n",
        "print(\"標準答案:\", test_label)\n",
        "\n",
        "# 輸出測試資料的預測標籤（模型預測的結果）\n",
        "print(\"預測答案:\", predict)\n"
      ]
    }
  ]
}