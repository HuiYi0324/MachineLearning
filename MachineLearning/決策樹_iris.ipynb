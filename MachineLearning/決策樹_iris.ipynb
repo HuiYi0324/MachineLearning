{
  "nbformat": 4,
  "nbformat_minor": 0,
  "metadata": {
    "colab": {
      "provenance": []
    },
    "kernelspec": {
      "name": "python3",
      "display_name": "Python 3"
    },
    "language_info": {
      "name": "python"
    }
  },
  "cells": [
    {
      "cell_type": "code",
      "execution_count": 2,
      "metadata": {
        "colab": {
          "base_uri": "https://localhost:8080/"
        },
        "id": "rzYPGgXyyBbB",
        "outputId": "413f78ab-895d-41f4-afda-a7d9b1c0c0ba"
      },
      "outputs": [
        {
          "output_type": "stream",
          "name": "stdout",
          "text": [
            "訓練資料正確率: 1.0\n",
            "測試資料正確率: 1.0\n",
            "標準答案: [1 0 2 1 1 0 1 2 1 1 2 0 0 0 0 1 2 1 1 2 0 2 0 2 2 2 2 2 0 0 0 0 1 0 0 2 1\n",
            " 0 0 0 2 1 1 0 0]\n",
            "預測答案: [1 0 2 1 1 0 1 2 1 1 2 0 0 0 0 1 2 1 1 2 0 2 0 2 2 2 2 2 0 0 0 0 1 0 0 2 1\n",
            " 0 0 0 2 1 1 0 0]\n"
          ]
        }
      ],
      "source": [
        "# 載入所需的模組\n",
        "from sklearn import tree\n",
        "from sklearn.datasets import load_iris\n",
        "from sklearn.model_selection import train_test_split\n",
        "\n",
        "# 讀入鳶尾花（Iris）資料集\n",
        "iris = load_iris()                # 載入內建資料集\n",
        "iris_data = iris.data            # 特徵資料（花萼長度、花萼寬度、花瓣長度、花瓣寬度）\n",
        "iris_label = iris.target         # 標籤資料（對應三種花的分類）\n",
        "\n",
        "# 將資料切分為訓練集與測試集，test_size=0.3 表示 30% 當作測試資料\n",
        "train_data, test_data, train_label, test_label = train_test_split(\n",
        "    iris_data, iris_label, test_size=0.3, random_state=42  # random_state 為了讓結果可重現\n",
        ")\n",
        "\n",
        "# 建立決策樹分類器\n",
        "clf = tree.DecisionTreeClassifier()        # 建立分類器物件\n",
        "iris_clf = clf.fit(train_data, train_label)  # 使用訓練資料訓練模型\n",
        "\n",
        "# 顯示訓練資料與測試資料的準確率\n",
        "print(\"訓練資料正確率:\", clf.score(train_data, train_label))  # 訓練集準確率（可能很高，注意過擬合）\n",
        "print(\"測試資料正確率:\", clf.score(test_data, test_label))    # 測試集準確率（比較能反映真實效果）\n",
        "\n",
        "# 使用模型預測測試資料\n",
        "predict = clf.predict(test_data)         # 使用訓練好的模型來做預測\n",
        "print(\"標準答案:\", test_label)          # 實際分類\n",
        "print(\"預測答案:\", predict)             # 預測分類"
      ]
    }
  ]
}