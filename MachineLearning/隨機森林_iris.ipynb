{
  "nbformat": 4,
  "nbformat_minor": 0,
  "metadata": {
    "colab": {
      "provenance": []
    },
    "kernelspec": {
      "name": "python3",
      "display_name": "Python 3"
    },
    "language_info": {
      "name": "python"
    }
  },
  "cells": [
    {
      "cell_type": "code",
      "execution_count": 1,
      "metadata": {
        "colab": {
          "base_uri": "https://localhost:8080/"
        },
        "id": "RE6J6nr6122w",
        "outputId": "6cc5a8fc-2a8d-41f9-928a-4505133705c3"
      },
      "outputs": [
        {
          "output_type": "stream",
          "name": "stdout",
          "text": [
            "訓練資料正確率: 1.0\n",
            "測試資料正確率: 0.9555555555555556\n",
            "標準答案: [2 1 1 1 2 2 0 2 0 0 0 2 0 0 1 0 0 2 2 1 1 2 1 2 2 1 1 0 0 1 1 0 2 1 2 0 1\n",
            " 0 0 0 0 2 1 2 0]\n",
            "預測答案: [2 1 1 2 2 2 0 2 0 0 0 2 0 0 1 0 0 2 2 1 1 2 1 2 2 1 1 0 0 1 1 0 2 1 2 0 2\n",
            " 0 0 0 0 2 1 2 0]\n"
          ]
        }
      ],
      "source": [
        "# 匯入必要模組\n",
        "from sklearn.ensemble import RandomForestClassifier  # 隨機森林分類器\n",
        "from sklearn.datasets import load_iris              # 鳶尾花資料集\n",
        "from sklearn.model_selection import train_test_split  # 訓練/測試資料切分工具\n",
        "\n",
        "# 讀入鳶尾花資料\n",
        "iris = load_iris()                 # 載入 scikit-learn 內建的鳶尾花資料集\n",
        "iris_data = iris.data             # 特徵資料（每筆資料有四個數值）\n",
        "iris_label = iris.target          # 標籤資料（0, 1, 2 對應三種鳶尾花）\n",
        "\n",
        "# 切分訓練與測試資料，30% 作為測試集\n",
        "train_data, test_data, train_label, test_label = train_test_split(\n",
        "    iris_data, iris_label, test_size=0.3, random_state=42  # random_state 讓結果固定\n",
        ")\n",
        "\n",
        "# 建立隨機森林分類器\n",
        "clf = RandomForestClassifier(n_estimators=30, max_depth=4)\n",
        "# n_estimators = 森林中樹的數量（這裡用 30 棵樹）\n",
        "# max_depth = 每棵樹的最大深度（限制太深可能會過擬合）\n",
        "\n",
        "# 使用訓練資料訓練模型\n",
        "iris_clf = clf.fit(train_data, train_label)\n",
        "\n",
        "# 顯示訓練與測試的正確率\n",
        "print(\"訓練資料正確率:\", clf.score(train_data, train_label))  # 訓練集準確率\n",
        "print(\"測試資料正確率:\", clf.score(test_data, test_label))    # 測試集準確率\n",
        "\n",
        "# 使用模型對測試資料做預測\n",
        "predict = clf.predict(test_data)     # 取得預測結果\n",
        "print(\"標準答案:\", test_label)       # 實際的分類結果\n",
        "print(\"預測答案:\", predict)          # 模型預測的結果"
      ]
    }
  ]
}